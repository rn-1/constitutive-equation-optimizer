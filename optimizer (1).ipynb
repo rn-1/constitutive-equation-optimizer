{
 "cells": [
  {
   "cell_type": "markdown",
   "id": "4c67616e",
   "metadata": {},
   "source": [
    "Time to optimize our function. Will be trying some methods."
   ]
  },
  {
   "cell_type": "code",
   "execution_count": 13,
   "id": "36b64553",
   "metadata": {},
   "outputs": [
    {
     "name": "stderr",
     "output_type": "stream",
     "text": [
      "C:\\Users\\desktop\\AppData\\Local\\Temp\\ipykernel_21576\\3399759832.py:46: RuntimeWarning: invalid value encountered in double_scalars\n",
      "  denom1 = deg1*sp.special.gamma(deg1)\n",
      "C:\\Users\\desktop\\AppData\\Local\\Temp\\ipykernel_21576\\3399759832.py:55: RuntimeWarning: invalid value encountered in double_scalars\n",
      "  denom2 = deg2*sp.special.gamma(deg2)\n"
     ]
    },
    {
     "name": "stdout",
     "output_type": "stream",
     "text": [
      "0.9163584045176214\n"
     ]
    }
   ],
   "source": [
    "import math\n",
    "import scipy as sp\n",
    "from scipy.optimize import basinhopping\n",
    "from scipy.optimize import dual_annealing\n",
    "import numpy as np\n",
    "\n",
    "\n",
    "class DataSet:\n",
    "    time = []\n",
    "    stress = []\n",
    "    strain_rate = 0\n",
    "    def __init__(self,t,y,strate):\n",
    "        self.time = t\n",
    "        self.stress = y\n",
    "        self.strain_rate = strate\n",
    "    \n",
    "    def getTime(self):\n",
    "        return self.time\n",
    "    \n",
    "    def getStress(self):\n",
    "#         print(self.time)\n",
    "        return self.stress\n",
    "    \n",
    "    def getStrRate(self):\n",
    "        return self.strain_rate\n",
    "\n",
    "bounds =[(0.000001,1),(0.000001,1),(0,10000000),(0,10000000),(0,10000000),(0,10000000)]\n",
    "\n",
    "\n",
    "t = [0.00000000001,0.15,0.3,0.45,0.6,0.75,0.9,1.05,1.2,1.35,1.5,1.65,1.8,1.95,2.1,2.25,2.4,2.55]\n",
    "st = [0,1.789052069,2.6435247,3.204272363,3.417890521,3.711615487,3.925233645,4.058744993,4.272363151,4.566088117,4.779706275,5.046728972,5.26034713,5.393858478,5.527369826,5.714285714,5.874499332,6.08811749]\n",
    "data_200_mm = DataSet(t, st, 0.00333333333)\n",
    "\n",
    "t2 = [0.000000000001,0.06,0.12,0.18,0.24,0.3,0.36,0.42,0.48,0.54,0.6,0.66,0.72,0.78,0.84,0.9,0.96,1.02,1.08,1.14,1.2]\n",
    "st2 = [0,2.403204272,3.871829105,4.993324433,5.740987984,6.461949266,7.156208278,7.716955941,8.117489987,8.411214953,8.758344459,9.052069426,9.319092123,9.666221629,10.09345794,10.52069426,10.78771696,11.02803738,11.26835781,11.53538051,11.64218959]\n",
    "data_500_mm = DataSet(t2, st2, 0.00833333333)\n",
    "\n",
    "t3 = [0.000000000001,0.03,0.06,0.09,0.12,0.15,0.18,0.21,0.24,0.27,0.3,0.33,0.36,0.39,0.42,0.45,0.48,0.51,0.54,0.57]\n",
    "st3 = [0,3.177570093,6.595460614,9.158878505,10.94793057,12.25634179,13.24432577,13.99198932,14.87316422,15.99465955,16.39519359,16.68891856,17.0894526,17.24966622,17.67690254,17.9706275,18.37116155,18.69158879,18.87850467,19.19893191]\n",
    "data_1000_mm = DataSet(t3, st3, 0.0166666667)\n",
    "\n",
    "def equation(x,a,b,e1,n1,e2,n2):\n",
    "    e0 = data_1000_mm.getStrRate()\n",
    "    \n",
    "    deg1 = 1-a\n",
    "    denom1 = deg1*sp.special.gamma(deg1)\n",
    "#     print(deg1)\n",
    "    ele_1 = x**deg1\n",
    "    ele_1 = ele_1/denom1\n",
    "    ele_1 *= e0\n",
    "    ele_1 *= e1**deg1\n",
    "    ele_1 *= n1**a\n",
    "    \n",
    "    deg2 = 1-b\n",
    "    denom2 = deg2*sp.special.gamma(deg2)\n",
    "#     print(deg2)\n",
    "\n",
    "    ele_2 = x**deg2\n",
    "    ele_2 = ele_2/denom2\n",
    "    ele_2 *= e0\n",
    "    ele_2 *= e2**deg2\n",
    "    ele_2 *= n2**b\n",
    "    return ele_1 + ele_2\n",
    "\n",
    "def error_func(x):\n",
    "    total = 0\n",
    "    sec = data_1000_mm.getTime()\n",
    "    newt = data_1000_mm.getStress()\n",
    "    for ind in range(len(sec)):\n",
    "        err = newt[ind] - equation(sec[ind],x[0],x[1],x[2],x[3],x[4],x[5])\n",
    "        err = err**2\n",
    "        total += err\n",
    "    total = total/len(sec)\n",
    "#     print(np.sqrt(total))\n",
    "    return np.sqrt(total)\n",
    "\n",
    "\n",
    "x0 = np.array([0.5,0.5,1,1,1,1])\n",
    "\n",
    "# ret = basinhopping(error_func,x0,minimizer_kwargs={\"method\":'BFGS'},disp=True)\n",
    "ret = dual_annealing(error_func,bounds,x0=x0,maxiter=20000000,seed=42)\n",
    "\n",
    "sol = ret['x']\n",
    "print(error_func(sol)) \n",
    "        "
   ]
  },
  {
   "cell_type": "code",
   "execution_count": 14,
   "id": "987104ad",
   "metadata": {},
   "outputs": [
    {
     "name": "stdout",
     "output_type": "stream",
     "text": [
      "0.00024836848218911725\n",
      "5.903741438330886\n",
      "7.886058782131342\n",
      "9.34133427903743\n",
      "10.533984891589919\n",
      "11.562974653459749\n",
      "12.477902699081403\n",
      "13.307718026490296\n",
      "14.071013260473633\n",
      "14.780546713338135\n",
      "15.445510066114734\n",
      "16.072777827947178\n",
      "16.6676463037127\n",
      "17.23429553888175\n",
      "17.776091265033735\n",
      "18.295789649036912\n",
      "18.795680477432423\n",
      "19.277689948081335\n",
      "19.74345615081287\n",
      "20.19438559543848\n"
     ]
    }
   ],
   "source": [
    "for x in data_1000_mm.getTime():\n",
    "    print(equation(x,*ret['x']))"
   ]
  },
  {
   "cell_type": "code",
   "execution_count": 7,
   "id": "3360db0d",
   "metadata": {
    "scrolled": true
   },
   "outputs": [
    {
     "name": "stdout",
     "output_type": "stream",
     "text": [
      "0.6420268969225622 1e-06 2606.0349465526897 607.1958197370183 79.68463819811431 48378.89169538372\n"
     ]
    }
   ],
   "source": [
    "print(*ret['x'])"
   ]
  },
  {
   "cell_type": "code",
   "execution_count": 8,
   "id": "ca81e276",
   "metadata": {},
   "outputs": [
    {
     "name": "stdout",
     "output_type": "stream",
     "text": [
      "0.08779074607631453\n"
     ]
    }
   ],
   "source": [
    "print(error_func(sol))"
   ]
  },
  {
   "cell_type": "code",
   "execution_count": 10,
   "id": "4908d5df",
   "metadata": {},
   "outputs": [
    {
     "name": "stdout",
     "output_type": "stream",
     "text": [
      "0.00019383430438974945\n",
      "1.4146187661035667\n",
      "1.8244581980220091\n",
      "2.1204110495798756\n",
      "2.3611670406873433\n",
      "2.5681492045413443\n",
      "2.751916099283581\n",
      "2.918551875089472\n",
      "3.0719235312587165\n",
      "3.214661287059582\n",
      "3.3486456117497685\n",
      "3.475273426530695\n",
      "3.5956144431802426\n",
      "3.7105082861775434\n",
      "3.8206276190049637\n",
      "3.926520730963317\n",
      "4.028641178726128\n",
      "4.127368973304954\n",
      "4.223026074768274\n",
      "4.31588795238234\n",
      "4.4061923618797785\n"
     ]
    }
   ],
   "source": []
  },
  {
   "cell_type": "code",
   "execution_count": null,
   "id": "ca8128fb",
   "metadata": {},
   "outputs": [],
   "source": []
  },
  {
   "cell_type": "code",
   "execution_count": null,
   "id": "8ca973e0",
   "metadata": {},
   "outputs": [],
   "source": [
    "#ok wtv now relaxation model or something idk.\n",
    "rel_t = [0.000000001,0.2,0.4,0.6,0.8,1,1.2]\n",
    "rel_y = [5.953177258,2.073578595,0.7023411371,0.3344481605,0.1337792642,0.03344481605,0]\n",
    "data_200mm_relax = DataSet(rel_t,rel_y,rel_y[0])\n",
    "rel_t2 = [0.000000001,0.2,0.4,0.6,0.8,1,1.2]\n",
    "rel_y2 = [11.60535117,3.110367893,1.337792642,0.6688963211,0.3010033445,0.06688963211,0]\n",
    "data_500mm_relax = DataSet(rel_t2,rel_y2,rel_y2[0])\n",
    "rel_t3 = [0,0.2,0.4,0.6,0.8,1,1.2,1.4]\n"
   ]
  }
 ],
 "metadata": {
  "kernelspec": {
   "display_name": "Python 3 (ipykernel)",
   "language": "python",
   "name": "python3"
  },
  "language_info": {
   "codemirror_mode": {
    "name": "ipython",
    "version": 3
   },
   "file_extension": ".py",
   "mimetype": "text/x-python",
   "name": "python",
   "nbconvert_exporter": "python",
   "pygments_lexer": "ipython3",
   "version": "3.9.12"
  }
 },
 "nbformat": 4,
 "nbformat_minor": 5
}
